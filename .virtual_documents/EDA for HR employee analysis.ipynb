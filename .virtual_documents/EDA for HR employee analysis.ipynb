


import pandas as pd
import matplotlib.pyplot as plt 
import seaborn as sns


file_path = "HRData.csv"
df = pd.read_csv(file_path)


df


df.head()


df.tail()


df.shape


df.describe()


df.info()


df.isnull().sum()


# Convert date columns to datetime
date_columns = ['DateOfBirth', 'HiringDate', 'TerminationDate']
for col in date_columns:
    df[col] = pd.to_datetime(df[col], errors='coerce')

# Check for missing values and duplicates
missing_values = df.isnull().sum()
duplicates = df.duplicated().sum()

# Descriptive statistics for numerical columns
numerical_summary = df.describe()

# Unique value counts for categorical columns
categorical_summary = df.select_dtypes(include=['object']).nunique()


# Visualizations
plt.figure(figsize=(10, 6))
sns.histplot(df['Salary'], kde=True, bins=30, color='blue')
plt.title('Salary Distribution')
plt.xlabel('Salary')
plt.ylabel('Frequency')
plt.show()


plt.figure(figsize=(10, 6))
sns.boxplot(x='Department', y='Salary', data=df)
plt.title('Salary by Department')
plt.xticks(rotation=45)
plt.show()


plt.figure(figsize=(10, 6))
sns.countplot(x='Gender', hue='PerformanceScore', data=df)
plt.title('Performance Score by Gender')
plt.show()


# Select only numerical columns for correlation
numerical_columns = df.select_dtypes(include=['number'])

# Calculate the correlation matrix
correlation_matrix = numerical_columns.corr()

plt.figure(figsize=(8, 6))
sns.heatmap(correlation_matrix, annot=True, cmap='coolwarm', fmt='.2f')
plt.title("Correlation Heatmap")
plt.show()
























