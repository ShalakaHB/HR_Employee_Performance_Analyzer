





import pandas as pd
import seaborn as sns
import matplotlib.pyplot as plt
import numpy as np

# Load the dataset
file_path = 'HRData.csv'
df = pd.read_csv(file_path)

# Convert dates to datetime format for calculations
def safe_date_conversion(date_series, column_name):
    try:
        return pd.to_datetime(date_series, errors='coerce')
    except Exception as e:
        print(f"Error converting dates in column '{column_name}': {e}")
        return pd.NaT

df['HiringDate'] = safe_date_conversion(df['HiringDate'], 'HiringDate')
df['TerminationDate'] = safe_date_conversion(df['TerminationDate'], 'TerminationDate')

# Calculate tenure for active employees
df['Tenure'] = (pd.Timestamp.now() - df['HiringDate']).dt.days / 365

def categorize_performance(performance):
    if performance == "Exceeds":
        return 3
    elif performance == "Fully Meets":
        return 2
    else:
        return 1

# Add a numeric performance score
df['PerformanceNumeric'] = df['PerformanceScore'].apply(categorize_performance)

# --- Performance Trends ---
# 1. Performance evolution over the past year by department
if 'Year' not in df.columns:
    df['Year'] = df['HiringDate'].dt.year  # Assuming HiringDate reflects active year

performance_trends = df.groupby(['Department', 'Year'])['PerformanceNumeric'].mean().reset_index()
print("\nPerformance Trends by Department and Year:")
print(performance_trends)

sns.lineplot(data=performance_trends, x='Year', y='PerformanceNumeric', hue='Department')
plt.title('Performance Trends by Department')
plt.xticks(rotation=45)
plt.show()

# 2. Percentage of employees exceeding KPIs
exceeds_kpis = len(df[df['PerformanceScore'] == 'Exceeds']) / len(df) * 100
print(f"\nPercentage of employees exceeding KPIs: {exceeds_kpis:.2f}%")

# 3. Seasonal trends in performance
if 'Month' not in df.columns:
    df['Month'] = df['HiringDate'].dt.month
seasonal_performance = df.groupby('Month')['PerformanceNumeric'].mean().reset_index()

sns.lineplot(data=seasonal_performance, x='Month', y='PerformanceNumeric')
plt.title('Seasonal Trends in Performance')
plt.xticks(range(1, 13))
plt.show()

# 4. Tenure effect on performance
tenure_performance = df.groupby(pd.cut(df['Tenure'], bins=[0, 1, 3, 5, 10, np.inf]))['PerformanceNumeric'].mean().reset_index()
print("\nPerformance by Tenure Bins:")
print(tenure_performance)

sns.barplot(data=tenure_performance, x='Tenure', y='PerformanceNumeric')
plt.title('Performance by Tenure')
plt.show()

# --- Employee Engagement ---
# 5. Correlation between satisfaction and performance
correlation = df['EmployeeSatisfaction'].corr(df['PerformanceNumeric'])
print(f"\nCorrelation between Satisfaction and Performance: {correlation:.2f}")

sns.scatterplot(data=df, x='EmployeeSatisfaction', y='PerformanceNumeric', hue='PerformanceScore')
plt.title('Satisfaction vs. Performance')
plt.show()

# 6. Participation in company events
if 'EventParticipation' in df.columns:
    event_performance = df.groupby('EventParticipation')['PerformanceNumeric'].mean().reset_index()
    print("\nPerformance by Event Participation:")
    print(event_performance)

    sns.barplot(data=event_performance, x='EventParticipation', y='PerformanceNumeric')
    plt.title('Performance by Event Participation')
    plt.show()

# 7. High performer turnover
high_performers = df[df['PerformanceScore'] == 'Exceeds']
high_turnover_rate = len(high_performers[high_performers['EmploymentStatus'] == 'Voluntarily Terminated']) / len(high_performers) * 100
print(f"\nHigh Performer Turnover Rate: {high_turnover_rate:.2f}%")

# --- Training and Development ---
# 8. ROI of training programs
if 'TrainingHours' in df.columns:
    df['PerformanceImprovement'] = df['PerformanceNumeric'] - df['PerformanceNumeric'].shift()
    training_roi = df.groupby('TrainingHours')['PerformanceImprovement'].mean().reset_index()
    print("\nTraining ROI:")
    print(training_roi)

    sns.barplot(data=training_roi, x='TrainingHours', y='PerformanceImprovement')
    plt.title('ROI of Training Programs')
    plt.show()

# --- Attendance and Punctuality ---
# 9. Absenteeism correlation with performance
if 'AbsenteeismDays' in df.columns:
    absenteeism_corr = df['AbsenteeismDays'].corr(df['PerformanceNumeric'])
    print(f"\nCorrelation between Absenteeism and Performance: {absenteeism_corr:.2f}")

# --- Rewards and Recognition ---
# 10. Impact of recognition on performance
if 'RecognitionCount' in df.columns:
    recognition_impact = df.groupby('RecognitionCount')['PerformanceNumeric'].mean().reset_index()
    print("\nPerformance by Recognition Count:")
    print(recognition_impact)

    sns.barplot(data=recognition_impact, x='RecognitionCount', y='PerformanceNumeric')
    plt.title('Performance by Recognition')
    plt.show()

# --- Work-Life Balance ---
# 11. Overtime and performance
if 'OvertimeHours' in df.columns:
    overtime_performance = df.groupby('OvertimeHours')['PerformanceNumeric'].mean().reset_index()
    print("\nPerformance by Overtime Hours:")
    print(overtime_performance)

    sns.lineplot(data=overtime_performance, x='OvertimeHours', y='PerformanceNumeric')
    plt.title('Overtime vs. Performance')
    plt.show()

# --- Diversity and Inclusion ---
# 12. Performance by gender
gender_performance = df.groupby('Gender')['PerformanceNumeric'].mean().reset_index()
print("\nPerformance by Gender:")
print(gender_performance)

sns.barplot(data=gender_performance, x='Gender', y='PerformanceNumeric')
plt.title('Performance by Gender')
plt.show()

# --- Predictive Insights ---
# 13. Factors predictive of high performance
from sklearn.model_selection import train_test_split
from sklearn.ensemble import RandomForestClassifier

# Prepare features and target
if 'AbsenteeismDays' in df.columns and 'TrainingHours' in df.columns:
    features = df[['AbsenteeismDays', 'TrainingHours', 'OvertimeHours', 'EmployeeSatisfaction']]
    target = (df['PerformanceScore'] == 'Exceeds').astype(int)

    X_train, X_test, y_train, y_test = train_test_split(features, target, test_size=0.2, random_state=42)

    model = RandomForestClassifier(random_state=42)
    model.fit(X_train, y_train)

    feature_importances = pd.DataFrame({'Feature': features.columns, 'Importance': model.feature_importances_})
    print("\nFeature Importances:")
    print(feature_importances.sort_values(by='Importance', ascending=False))

    sns.barplot(data=feature_importances, x='Importance', y='Feature')
    plt.title('Feature Importances for High Performance')
    plt.show()



import pandas as pd
import seaborn as sns
import matplotlib.pyplot as plt
import numpy as np

# Load the dataset
file_path = 'HRData.csv'
df = pd.read_csv(file_path)

# Convert dates to datetime format for calculations
def safe_date_conversion(date_series, column_name):
    try:
        return pd.to_datetime(date_series, errors='coerce')
    except Exception as e:
        print(f"Error converting dates in column '{column_name}': {e}")
        return pd.NaT

df['HiringDate'] = safe_date_conversion(df['HiringDate'], 'HiringDate')
df['TerminationDate'] = safe_date_conversion(df['TerminationDate'], 'TerminationDate')

# Calculate tenure for active employees
df['Tenure'] = (pd.Timestamp.now() - df['HiringDate']).dt.days / 365

def categorize_performance(performance):
    if performance == "Exceeds":
        return 3
    elif performance == "Fully Meets":
        return 2
    else:
        return 1

# Add a numeric performance score
df['PerformanceNumeric'] = df['PerformanceScore'].apply(categorize_performance)

# Visualization

# --- Performance Trends ---
# 1. Performance evolution over the past year by department
plt.figure(figsize=(12, 6))
sns.countplot(x='Department', hue='PerformanceScore', data=df)
plt.title('Performance Evolution by Department')
plt.xticks(rotation=45)
plt.show()

# 2. Percentage of employees consistently exceeding KPIs
plt.figure(figsize=(8, 6))
sns.countplot(x='PerformanceScore', data=df, order=df['PerformanceScore'].value_counts().index)
plt.title('Percentage of Employees Consistently Exceeding KPIs')
plt.show()

# 3. Seasonal trends in performance
# lineplot to analyze trends
if 'HiringDate' in df.columns:
    # Extract month from HiringDate
    df['Month'] = df['HiringDate'].dt.month
    
    # Debugging: Check value counts for PerformanceNumeric and Month
    print("PerformanceNumeric Value Counts:")
    print(df['PerformanceNumeric'].value_counts())
    print("\nMonth Value Counts:")
    print(df['Month'].value_counts())
    print("\nSample Data:")
    print(df[['HiringDate', 'PerformanceNumeric']].head())
    
    # Line plot for seasonal trends
    plt.figure(figsize=(10, 6))
    sns.lineplot(data=df, x='Month', y='PerformanceNumeric', estimator='mean', ci=None, marker='o')
    plt.title('Seasonal Trends in Performance')
    plt.xlabel('Month')
    plt.ylabel('Mean Performance Score')
    plt.xticks(ticks=range(1, 13), labels=['Jan', 'Feb', 'Mar', 'Apr', 'May', 'Jun', 
                                           'Jul', 'Aug', 'Sep', 'Oct', 'Nov', 'Dec'])
    plt.grid(axis='y', linestyle='--', alpha=0.7)
    plt.show()

# 4. Tenure effect on performance
plt.figure(figsize=(10, 6))
sns.scatterplot(x='Tenure', y='PerformanceNumeric', data=df)
plt.title('Tenure Effect on Performance')
plt.show()

# --- Employee Engagement ---
# 5. Correlation between satisfaction and performance
if 'EmployeeSatisfaction' in df.columns:
    plt.figure(figsize=(10, 6))
    sns.scatterplot(x='EmployeeSatisfaction', y='PerformanceNumeric', data=df, hue='PerformanceScore')
    plt.title('Correlation between Satisfaction and Performance')
    plt.show()

# 6. Participation in company events
if 'EventParticipation' in df.columns:
    plt.figure(figsize=(10, 6))
    sns.barplot(x='EventParticipation', y='PerformanceNumeric', data=df)
    plt.title('Performance by Event Participation')
    plt.show()

# 7. High performer turnover
if 'EmploymentStatus' in df.columns:
    high_performers = df[df['PerformanceScore'] == 'Exceeds']
    high_turnover_rate = len(high_performers[high_performers['EmploymentStatus'] == 'Voluntarily Terminated']) / len(high_performers) * 100
    print(f"High Performer Turnover Rate: {high_turnover_rate:.2f}%")

# --- Training and Development ---
# 8. ROI of training programs
if 'TrainingHours' in df.columns:
    df['PerformanceImprovement'] = df['PerformanceNumeric'] - df['PerformanceNumeric'].shift()
    plt.figure(figsize=(10, 6))
    sns.lineplot(x='TrainingHours', y='PerformanceImprovement', data=df)
    plt.title('ROI of Training Programs')
    plt.show()

# --- Attendance and Punctuality ---
# 9. Absenteeism correlation with performance
if 'AbsenteeismDays' in df.columns:
    plt.figure(figsize=(10, 6))
    sns.scatterplot(x='AbsenteeismDays', y='PerformanceNumeric', data=df)
    plt.title('Absenteeism Correlation with Performance')
    plt.show()

# --- Rewards and Recognition ---
# 10. Impact of recognition on performance
if 'RecognitionCount' in df.columns:
    plt.figure(figsize=(10, 6))
    sns.barplot(x='RecognitionCount', y='PerformanceNumeric', data=df)
    plt.title('Impact of Recognition on Performance')
    plt.show()

# --- Work-Life Balance ---
# 11. Overtime and performance
if 'OvertimeHours' in df.columns:
    plt.figure(figsize=(10, 6))
    sns.lineplot(x='OvertimeHours', y='PerformanceNumeric', data=df)
    plt.title('Overtime vs. Performance')
    plt.show()

# --- Diversity and Inclusion ---
# 12. Performance by gender
if 'Gender' in df.columns:
    plt.figure(figsize=(10, 6))
    sns.barplot(x='Gender', y='PerformanceNumeric', data=df)
    plt.title('Performance by Gender')
    plt.show()

# --- Predictive Insights ---
# 13. Factors predictive of high performance
if 'AbsenteeismDays' in df.columns and 'TrainingHours' in df.columns:
    from sklearn.model_selection import train_test_split
    from sklearn.ensemble import RandomForestClassifier

    # Prepare features and target
    features = df[['AbsenteeismDays', 'TrainingHours', 'OvertimeHours', 'EmployeeSatisfaction']]
    target = (df['PerformanceScore'] == 'Exceeds').astype(int)

    X_train, X_test, y_train, y_test = train_test_split(features, target, test_size=0.2, random_state=42)

    model = RandomForestClassifier(random_state=42)
    model.fit(X_train, y_train)

    feature_importances = pd.DataFrame({'Feature': features.columns, 'Importance': model.feature_importances_})
    plt.figure(figsize=(10, 6))
    sns.barplot(data=feature_importances, x='Importance', y='Feature')
    plt.title('Feature Importances for High Performance')
    plt.show()











































